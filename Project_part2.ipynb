{
 "cells": [
  {
   "cell_type": "code",
   "execution_count": 13,
   "metadata": {},
   "outputs": [],
   "source": [
    "import pulp #pulp will be used to produce the problem\n",
    "import numpy as np"
   ]
  },
  {
   "cell_type": "code",
   "execution_count": 14,
   "metadata": {},
   "outputs": [],
   "source": [
    "#The supplier is the row and the site is the column\n",
    "cost = np.array([[3,4,3,1],\n",
    "                 [3,3,2,3],\n",
    "                 [3,5,5,3],\n",
    "                 [6,4,2,6],\n",
    "                 [4,2,2,3],\n",
    "                 [4,6,2,6]])"
   ]
  },
  {
   "cell_type": "code",
   "execution_count": 15,
   "metadata": {},
   "outputs": [],
   "source": [
    "#create the model\n",
    "model = pulp.LpProblem(\"part2\",pulp.LpMinimize)\n",
    "#set the Rij boolean variable\n",
    "R = pulp.LpVariable.dicts(\"Route\",((i, j) for i in range(6) for j in range(4)),\n",
    "\t\t\t\t\t\t  lowBound=0,cat='Binary')"
   ]
  },
  {
   "cell_type": "code",
   "execution_count": 16,
   "metadata": {},
   "outputs": [],
   "source": [
    "#Each testing site must be linked to 1 and only 1 supplier\n",
    "for j in range(4):\n",
    "    model += pulp.lpSum([R[i,j] for i in range(6)]) == 1\n",
    "#The total number of suppliers must be equal to or less then 4\n",
    "    model += pulp.lpSum([R[i,j] for i in range(6) for j in range(4)]) == 4"
   ]
  },
  {
   "cell_type": "code",
   "execution_count": 17,
   "metadata": {},
   "outputs": [],
   "source": [
    "#Minimize the sum of the costs\n",
    "model += pulp.lpSum([cost[i,j]*R[i,j] for i in range(6) for j in range(4)])"
   ]
  },
  {
   "cell_type": "code",
   "execution_count": 18,
   "metadata": {},
   "outputs": [
    {
     "name": "stdout",
     "output_type": "stream",
     "text": [
      "part2:\n",
      "MINIMIZE\n",
      "3*Route_(0,_0) + 4*Route_(0,_1) + 3*Route_(0,_2) + 1*Route_(0,_3) + 3*Route_(1,_0) + 3*Route_(1,_1) + 2*Route_(1,_2) + 3*Route_(1,_3) + 3*Route_(2,_0) + 5*Route_(2,_1) + 5*Route_(2,_2) + 3*Route_(2,_3) + 6*Route_(3,_0) + 4*Route_(3,_1) + 2*Route_(3,_2) + 6*Route_(3,_3) + 4*Route_(4,_0) + 2*Route_(4,_1) + 2*Route_(4,_2) + 3*Route_(4,_3) + 4*Route_(5,_0) + 6*Route_(5,_1) + 2*Route_(5,_2) + 6*Route_(5,_3) + 0\n",
      "SUBJECT TO\n",
      "_C1: Route_(0,_0) + Route_(1,_0) + Route_(2,_0) + Route_(3,_0) + Route_(4,_0)\n",
      " + Route_(5,_0) = 1\n",
      "\n",
      "_C2: Route_(0,_0) + Route_(0,_1) + Route_(0,_2) + Route_(0,_3) + Route_(1,_0)\n",
      " + Route_(1,_1) + Route_(1,_2) + Route_(1,_3) + Route_(2,_0) + Route_(2,_1)\n",
      " + Route_(2,_2) + Route_(2,_3) + Route_(3,_0) + Route_(3,_1) + Route_(3,_2)\n",
      " + Route_(3,_3) + Route_(4,_0) + Route_(4,_1) + Route_(4,_2) + Route_(4,_3)\n",
      " + Route_(5,_0) + Route_(5,_1) + Route_(5,_2) + Route_(5,_3) = 4\n",
      "\n",
      "_C3: Route_(0,_1) + Route_(1,_1) + Route_(2,_1) + Route_(3,_1) + Route_(4,_1)\n",
      " + Route_(5,_1) = 1\n",
      "\n",
      "_C4: Route_(0,_0) + Route_(0,_1) + Route_(0,_2) + Route_(0,_3) + Route_(1,_0)\n",
      " + Route_(1,_1) + Route_(1,_2) + Route_(1,_3) + Route_(2,_0) + Route_(2,_1)\n",
      " + Route_(2,_2) + Route_(2,_3) + Route_(3,_0) + Route_(3,_1) + Route_(3,_2)\n",
      " + Route_(3,_3) + Route_(4,_0) + Route_(4,_1) + Route_(4,_2) + Route_(4,_3)\n",
      " + Route_(5,_0) + Route_(5,_1) + Route_(5,_2) + Route_(5,_3) = 4\n",
      "\n",
      "_C5: Route_(0,_2) + Route_(1,_2) + Route_(2,_2) + Route_(3,_2) + Route_(4,_2)\n",
      " + Route_(5,_2) = 1\n",
      "\n",
      "_C6: Route_(0,_0) + Route_(0,_1) + Route_(0,_2) + Route_(0,_3) + Route_(1,_0)\n",
      " + Route_(1,_1) + Route_(1,_2) + Route_(1,_3) + Route_(2,_0) + Route_(2,_1)\n",
      " + Route_(2,_2) + Route_(2,_3) + Route_(3,_0) + Route_(3,_1) + Route_(3,_2)\n",
      " + Route_(3,_3) + Route_(4,_0) + Route_(4,_1) + Route_(4,_2) + Route_(4,_3)\n",
      " + Route_(5,_0) + Route_(5,_1) + Route_(5,_2) + Route_(5,_3) = 4\n",
      "\n",
      "_C7: Route_(0,_3) + Route_(1,_3) + Route_(2,_3) + Route_(3,_3) + Route_(4,_3)\n",
      " + Route_(5,_3) = 1\n",
      "\n",
      "_C8: Route_(0,_0) + Route_(0,_1) + Route_(0,_2) + Route_(0,_3) + Route_(1,_0)\n",
      " + Route_(1,_1) + Route_(1,_2) + Route_(1,_3) + Route_(2,_0) + Route_(2,_1)\n",
      " + Route_(2,_2) + Route_(2,_3) + Route_(3,_0) + Route_(3,_1) + Route_(3,_2)\n",
      " + Route_(3,_3) + Route_(4,_0) + Route_(4,_1) + Route_(4,_2) + Route_(4,_3)\n",
      " + Route_(5,_0) + Route_(5,_1) + Route_(5,_2) + Route_(5,_3) = 4\n",
      "\n",
      "VARIABLES\n",
      "0 <= Route_(0,_0) <= 1 Integer\n",
      "0 <= Route_(0,_1) <= 1 Integer\n",
      "0 <= Route_(0,_2) <= 1 Integer\n",
      "0 <= Route_(0,_3) <= 1 Integer\n",
      "0 <= Route_(1,_0) <= 1 Integer\n",
      "0 <= Route_(1,_1) <= 1 Integer\n",
      "0 <= Route_(1,_2) <= 1 Integer\n",
      "0 <= Route_(1,_3) <= 1 Integer\n",
      "0 <= Route_(2,_0) <= 1 Integer\n",
      "0 <= Route_(2,_1) <= 1 Integer\n",
      "0 <= Route_(2,_2) <= 1 Integer\n",
      "0 <= Route_(2,_3) <= 1 Integer\n",
      "0 <= Route_(3,_0) <= 1 Integer\n",
      "0 <= Route_(3,_1) <= 1 Integer\n",
      "0 <= Route_(3,_2) <= 1 Integer\n",
      "0 <= Route_(3,_3) <= 1 Integer\n",
      "0 <= Route_(4,_0) <= 1 Integer\n",
      "0 <= Route_(4,_1) <= 1 Integer\n",
      "0 <= Route_(4,_2) <= 1 Integer\n",
      "0 <= Route_(4,_3) <= 1 Integer\n",
      "0 <= Route_(5,_0) <= 1 Integer\n",
      "0 <= Route_(5,_1) <= 1 Integer\n",
      "0 <= Route_(5,_2) <= 1 Integer\n",
      "0 <= Route_(5,_3) <= 1 Integer\n",
      "\n",
      "R =\n",
      " [[0. 0. 0. 1.]\n",
      " [0. 0. 0. 0.]\n",
      " [1. 0. 0. 0.]\n",
      " [0. 0. 0. 0.]\n",
      " [0. 1. 0. 0.]\n",
      " [0. 0. 1. 0.]]\n",
      "Minimum cost: 8.0\n"
     ]
    }
   ],
   "source": [
    "model.solve()\n",
    "#create the solution matrix,where X is the R matrix and Y the suppliers matrix\n",
    "X = np.zeros(6*4)\n",
    "i = 0\n",
    "#assign the variables to the matrix\n",
    "for variable in model.variables():\n",
    "    if i<24:\n",
    "        X[i]= variable.varValue\n",
    "    i += 1\n",
    "X = np.reshape(X,(6,4))\n",
    "print(model)\n",
    "print('R =\\n',X)\n",
    "print('Minimum cost:',pulp.value(model.objective))"
   ]
  },
  {
   "cell_type": "code",
   "execution_count": null,
   "metadata": {},
   "outputs": [],
   "source": []
  }
 ],
 "metadata": {
  "kernelspec": {
   "display_name": "Python 3",
   "language": "python",
   "name": "python3"
  },
  "language_info": {
   "codemirror_mode": {
    "name": "ipython",
    "version": 3
   },
   "file_extension": ".py",
   "mimetype": "text/x-python",
   "name": "python",
   "nbconvert_exporter": "python",
   "pygments_lexer": "ipython3",
   "version": "3.8.3"
  }
 },
 "nbformat": 4,
 "nbformat_minor": 4
}
