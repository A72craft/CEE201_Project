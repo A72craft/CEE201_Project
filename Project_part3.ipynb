{
 "cells": [
  {
   "cell_type": "code",
   "execution_count": 98,
   "metadata": {},
   "outputs": [],
   "source": [
    "import pulp #pulp will be used to produce the problem\n",
    "import numpy as np"
   ]
  },
  {
   "cell_type": "code",
   "execution_count": 99,
   "metadata": {},
   "outputs": [],
   "source": [
    "#i is the row and j is the column\n",
    "c = np.array([[0,104.69002,38.832976,73.925638,38.209946],\n",
    "              [104.6900186,0,66.60330322,43.737855,66.483081],\n",
    "              [38.83297568,66.603303,0,36.674242,5.6568542],\n",
    "              [73.92563831,43.73785546,36.67424164,0,40.112342],\n",
    "              [38.209946,66.483081,5.656854249,40.11234224,0]])"
   ]
  },
  {
   "cell_type": "code",
   "execution_count": 100,
   "metadata": {},
   "outputs": [],
   "source": [
    "#create the model\n",
    "model = pulp.LpProblem(\"part3\",pulp.LpMinimize)\n",
    "#set the Xij boolean variables \n",
    "x = pulp.LpVariable.dicts(\"X\",((i, j) for i in range(5) for j in range(5)),\n",
    "\t\t\t\t\t\t  lowBound=0,cat='Binary')"
   ]
  },
  {
   "cell_type": "code",
   "execution_count": 101,
   "metadata": {},
   "outputs": [],
   "source": [
    "#the inbound/outbound constraint \n",
    "for i in range(5):\n",
    "    model += pulp.lpSum([x[i,j] for j in range(5) if i != j]) == 1\n",
    "for i in range(5):\n",
    "    model += pulp.lpSum([x[i,j]]) == 0\n",
    "subtours (2 nodes)\n",
    "for i in range(5):\n",
    "    for j in range(5):\n",
    "        if i != j:\n",
    "            model += pulp.lpSum([x[i,j]+x[j,i]]) <= 1\n",
    "subtours (3 nodes)\n",
    "for i in range(5):\n",
    "    for j in range(5):\n",
    "        for k in range(5):\n",
    "            if (i != j and i!=k and j != k):\n",
    "                model += pulp.lpSum([x[i,j]+x[j,k]+x[k,i]]) <= 2\n",
    "subtours (4 nodes)\n",
    "for i in range(5):\n",
    "        for k in range(5):\n",
    "            for l in range(5):\n",
    "                if (i != j and i!=k and i != l and\n",
    "                    j != k and j != l and k != l):\n",
    "                    model += pulp.lpSum([x[i,j]+x[j,k]+x[k,l]+x[l,i]]) <= 3"
   ]
  },
  {
   "cell_type": "code",
   "execution_count": 102,
   "metadata": {},
   "outputs": [],
   "source": [
    "#all the cost times x is the minimum\n",
    "model += pulp.lpSum([c[i,j]*x[i,j] for i in range(5) \n",
    "\t\t\t\t\t for j in range(5) if i!=j])"
   ]
  },
  {
   "cell_type": "code",
   "execution_count": 103,
   "metadata": {},
   "outputs": [
    {
     "name": "stdout",
     "output_type": "stream",
     "text": [
      "part3:\n",
      "MINIMIZE\n",
      "104.69002*X_(0,_1) + 38.832976*X_(0,_2) + 73.925638*X_(0,_3) + 38.209946*X_(0,_4) + 104.6900186*X_(1,_0) + 66.60330322*X_(1,_2) + 43.737855*X_(1,_3) + 66.483081*X_(1,_4) + 38.83297568*X_(2,_0) + 66.603303*X_(2,_1) + 36.674242*X_(2,_3) + 5.6568542*X_(2,_4) + 73.92563831*X_(3,_0) + 43.73785546*X_(3,_1) + 36.67424164*X_(3,_2) + 40.112342*X_(3,_4) + 38.209946*X_(4,_0) + 66.483081*X_(4,_1) + 5.656854249*X_(4,_2) + 40.11234224*X_(4,_3) + 0.0\n",
      "SUBJECT TO\n",
      "_C1: X_(0,_1) + X_(0,_2) + X_(0,_3) + X_(0,_4) = 1\n",
      "\n",
      "_C2: X_(1,_0) + X_(1,_2) + X_(1,_3) + X_(1,_4) = 1\n",
      "\n",
      "_C3: X_(2,_0) + X_(2,_1) + X_(2,_3) + X_(2,_4) = 1\n",
      "\n",
      "_C4: X_(3,_0) + X_(3,_1) + X_(3,_2) + X_(3,_4) = 1\n",
      "\n",
      "_C5: X_(4,_0) + X_(4,_1) + X_(4,_2) + X_(4,_3) = 1\n",
      "\n",
      "_C6: X_(0,_0) = 0\n",
      "\n",
      "_C7: X_(1,_1) = 0\n",
      "\n",
      "_C8: X_(2,_2) = 0\n",
      "\n",
      "_C9: X_(3,_3) = 0\n",
      "\n",
      "_C10: X_(4,_4) = 0\n",
      "\n",
      "VARIABLES\n",
      "0 <= X_(0,_0) <= 1 Integer\n",
      "0 <= X_(0,_1) <= 1 Integer\n",
      "0 <= X_(0,_2) <= 1 Integer\n",
      "0 <= X_(0,_3) <= 1 Integer\n",
      "0 <= X_(0,_4) <= 1 Integer\n",
      "0 <= X_(1,_0) <= 1 Integer\n",
      "0 <= X_(1,_1) <= 1 Integer\n",
      "0 <= X_(1,_2) <= 1 Integer\n",
      "0 <= X_(1,_3) <= 1 Integer\n",
      "0 <= X_(1,_4) <= 1 Integer\n",
      "0 <= X_(2,_0) <= 1 Integer\n",
      "0 <= X_(2,_1) <= 1 Integer\n",
      "0 <= X_(2,_2) <= 1 Integer\n",
      "0 <= X_(2,_3) <= 1 Integer\n",
      "0 <= X_(2,_4) <= 1 Integer\n",
      "0 <= X_(3,_0) <= 1 Integer\n",
      "0 <= X_(3,_1) <= 1 Integer\n",
      "0 <= X_(3,_2) <= 1 Integer\n",
      "0 <= X_(3,_3) <= 1 Integer\n",
      "0 <= X_(3,_4) <= 1 Integer\n",
      "0 <= X_(4,_0) <= 1 Integer\n",
      "0 <= X_(4,_1) <= 1 Integer\n",
      "0 <= X_(4,_2) <= 1 Integer\n",
      "0 <= X_(4,_3) <= 1 Integer\n",
      "0 <= X_(4,_4) <= 1 Integer\n",
      "\n",
      "X =\n",
      " [[0. 0. 0. 0. 1.]\n",
      " [0. 0. 0. 1. 0.]\n",
      " [0. 0. 0. 0. 1.]\n",
      " [0. 0. 1. 0. 0.]\n",
      " [0. 0. 1. 0. 0.]]\n",
      "Minimum cost: 129.93575108899998\n"
     ]
    }
   ],
   "source": [
    "model.solve()\n",
    "#create the solution matrix,where X is the R matrix and Y the suppliers matrix\n",
    "X = np.zeros(5*5)\n",
    "i = 0\n",
    "#assign the variables to the matrix\n",
    "for variable in model.variables():\n",
    "    if i<25:\n",
    "        X[i]= variable.varValue\n",
    "    i += 1\n",
    "X = np.reshape(X,(5,5))\n",
    "print(model)\n",
    "print('X =\\n',X)\n",
    "print('Minimum cost:',pulp.value(model.objective))"
   ]
  },
  {
   "cell_type": "code",
   "execution_count": null,
   "metadata": {},
   "outputs": [],
   "source": []
  },
  {
   "cell_type": "code",
   "execution_count": null,
   "metadata": {},
   "outputs": [],
   "source": []
  }
 ],
 "metadata": {
  "kernelspec": {
   "display_name": "Python 3",
   "language": "python",
   "name": "python3"
  },
  "language_info": {
   "codemirror_mode": {
    "name": "ipython",
    "version": 3
   },
   "file_extension": ".py",
   "mimetype": "text/x-python",
   "name": "python",
   "nbconvert_exporter": "python",
   "pygments_lexer": "ipython3",
   "version": "3.8.3"
  }
 },
 "nbformat": 4,
 "nbformat_minor": 4
}
